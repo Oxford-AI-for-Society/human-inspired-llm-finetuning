{
 "cells": [
  {
   "cell_type": "code",
   "execution_count": 2,
   "id": "f4a418f4-d255-4ac1-ac9b-e2d3b332e304",
   "metadata": {
    "tags": []
   },
   "outputs": [],
   "source": [
    "import pandas as pd\n",
    "import numpy as np\n",
    "import json\n",
    "import math"
   ]
  },
  {
   "cell_type": "code",
   "execution_count": 8,
   "id": "960dff33",
   "metadata": {},
   "outputs": [
    {
     "data": {
      "text/plain": [
       "0.4046964040086461"
      ]
     },
     "execution_count": 8,
     "metadata": {},
     "output_type": "execute_result"
    }
   ],
   "source": [
    "# with open('/code/human-learning-strategies/responses/meditron-70b_medqa.json') as f:\n",
    "#     data = json.load(f)\n",
    "# df = pd.DataFrame(data['questions'])\n",
    "\n",
    "# sum(df['correct_answer'] == df['response'])/len(df)"
   ]
  },
  {
   "cell_type": "code",
   "execution_count": 3,
   "id": "0f8f49cc-1146-4931-87c7-6578d03ec5a8",
   "metadata": {
    "tags": []
   },
   "outputs": [],
   "source": [
    "def load_responses(filepath):\n",
    "    with open(filepath) as f:\n",
    "        data = json.load(f)\n",
    "\n",
    "    df = pd.DataFrame(data[\"questions\"])\n",
    "\n",
    "    return df\n",
    "\n",
    "\n",
    "def category_filter(df, category):\n",
    "    subset = df[df[\"Category\"] == category].copy()\n",
    "    return subset\n",
    "\n",
    "\n",
    "def correct_filter(df, incorrect=False):\n",
    "    subset = df[(df[\"correct_answer\"] == df[\"response\"]) != incorrect].copy()\n",
    "    return subset"
   ]
  },
  {
   "cell_type": "code",
   "execution_count": 4,
   "id": "f036433a",
   "metadata": {},
   "outputs": [],
   "source": [
    "def correct(df):\n",
    "    df[\"correct\"] = df[\"correct_answer\"] == df[\"response\"]\n",
    "    return df[\"correct\"].sum()\n",
    "\n",
    "\n",
    "def accuracy(df):\n",
    "    df[\"correct\"] = df[\"correct_answer\"] == df[\"response\"]\n",
    "    return df[\"correct\"].sum() / len(df[\"correct\"])\n",
    "\n",
    "\n",
    "def expected_correct(df):\n",
    "    df[\"expected_correct\"] = df.apply(\n",
    "        lambda x: math.exp(\n",
    "            x[\"clls\"][[\"A\", \"B\", \"C\", \"D\", \"E\"].index(x[\"correct_answer\"])]\n",
    "        ),\n",
    "        axis=1,\n",
    "    )\n",
    "    return df[\"expected_correct\"].sum()\n",
    "\n",
    "\n",
    "def expected_accuracy(df):\n",
    "    df[\"expected_correct\"] = df.apply(\n",
    "        lambda x: math.exp(\n",
    "            x[\"clls\"][[\"A\", \"B\", \"C\", \"D\", \"E\"].index(x[\"correct_answer\"])]\n",
    "        ),\n",
    "        axis=1,\n",
    "    )\n",
    "    return df[\"expected_correct\"].sum() / len(df)\n",
    "\n",
    "\n",
    "def expected_correct_series(df):\n",
    "    df[\"expected_correct\"] = df.apply(\n",
    "        lambda x: math.exp(\n",
    "            x[\"clls\"][[\"A\", \"B\", \"C\", \"D\", \"E\"].index(x[\"correct_answer\"])]\n",
    "        ),\n",
    "        axis=1,\n",
    "    )\n",
    "    return df[\"expected_correct\"].values\n",
    "\n",
    "\n",
    "def expected_accuracy_series(df):\n",
    "    df[\"expected_correct\"] = df.apply(\n",
    "        lambda x: math.exp(\n",
    "            x[\"clls\"][[\"A\", \"B\", \"C\", \"D\", \"E\"].index(x[\"correct_answer\"])]\n",
    "        ),\n",
    "        axis=1,\n",
    "    )\n",
    "    return df[\"expected_correct\"].values"
   ]
  },
  {
   "cell_type": "code",
   "execution_count": 5,
   "id": "f035e5b1",
   "metadata": {},
   "outputs": [],
   "source": [
    "def weight_dist(df):\n",
    "    sorted_clls = pd.DataFrame(\n",
    "        df[\"clls\"].apply(lambda x: np.exp(np.array(sorted(x, reverse=True)))).tolist()\n",
    "    )\n",
    "    return (sorted_clls.sum() / len(df)).values"
   ]
  },
  {
   "cell_type": "code",
   "execution_count": 6,
   "id": "dbd07c5b-65b4-48cf-96e1-d2373c45a3fb",
   "metadata": {
    "tags": []
   },
   "outputs": [],
   "source": [
    "# dataset = 'medqa'\n",
    "dataset = \"LEK\"\n",
    "\n",
    "models = {\n",
    "    \"GPT 4 Turbo\": \"gpt-4-1106-preview\",\n",
    "    \"GPT 3.5\": \"gpt-3.5-turbo-1106\",\n",
    "    \"PaLM 2\": \"text-bison@002\",\n",
    "    \"Mistral 8x7B\": \"Mixtral-8x7B-v0.1\",\n",
    "    \"Meditron 70B\": \"meditron-70b\",\n",
    "    \"Llama 2 70B\": \"Llama-2-70b-chat-hf\",\n",
    "}\n",
    "\n",
    "models_df = pd.DataFrame.from_dict(models, columns=[\"hf_name\"], orient=\"index\")\n",
    "\n",
    "models_df[\"filepath\"] = \"../responses/\" + models_df[\"hf_name\"] + \"_\" + dataset + \".json\"\n",
    "\n",
    "models_df[\"n_correct\"] = models_df.apply(\n",
    "    lambda x: correct(load_responses(x[\"filepath\"])), axis=1\n",
    ")\n",
    "models_df[\"raw_accuracy\"] = models_df.apply(\n",
    "    lambda x: accuracy(load_responses(x[\"filepath\"])), axis=1\n",
    ")\n",
    "models_df[\"expected_correct\"] = models_df.apply(\n",
    "    lambda x: expected_correct(load_responses(x[\"filepath\"])), axis=1\n",
    ")\n",
    "models_df[\"expected_accuracy\"] = models_df.apply(\n",
    "    lambda x: expected_accuracy(load_responses(x[\"filepath\"])), axis=1\n",
    ")\n",
    "models_df[\"expected_correct_series\"] = models_df.apply(\n",
    "    lambda x: expected_correct_series(load_responses(x[\"filepath\"])), axis=1\n",
    ")\n",
    "models_df[\"expected_accuracy_series\"] = models_df.apply(\n",
    "    lambda x: expected_accuracy_series(load_responses(x[\"filepath\"])), axis=1\n",
    ")"
   ]
  },
  {
   "cell_type": "code",
   "execution_count": 18,
   "id": "c8054a06",
   "metadata": {},
   "outputs": [
    {
     "data": {
      "text/plain": [
       "<Axes: >"
      ]
     },
     "execution_count": 18,
     "metadata": {},
     "output_type": "execute_result"
    },
    {
     "data": {
      "image/png": "[encoded data removed]",
      "text/plain": [
       "<Figure size 640x480 with 1 Axes>"
      ]
     },
     "metadata": {},
     "output_type": "display_data"
    }
   ],
   "source": [
    "difficulty = 1 - models_df[\"expected_accuracy_series\"].mean()\n",
    "pd.Series(difficulty).hist()"
   ]
  },
  {
   "cell_type": "markdown",
   "id": "5221e694",
   "metadata": {},
   "source": [
    "### Compute the difficulty level per question as (1-expected accuracy)"
   ]
  },
  {
   "cell_type": "code",
   "execution_count": 7,
   "id": "eefa4d1f",
   "metadata": {},
   "outputs": [
    {
     "name": "stdout",
     "output_type": "stream",
     "text": [
      "     GPT 4 Turbo   GPT 3.5    PaLM 2  Mistral 8x7B  Meditron 70B  Llama 2 70B  \\\n",
      "0       0.999087  0.006627  0.633000      0.378882      0.230191     0.674622   \n",
      "1       0.002467  0.001343  0.015182      0.101399      0.262602     0.000000   \n",
      "2       1.000000  0.779202  0.030978      0.188550      0.074491     0.000000   \n",
      "3       0.988730  0.656007  0.846312      0.393976      0.681698     1.000000   \n",
      "4       0.999195  0.096682  0.385622      0.206477      0.329814     0.697059   \n",
      "..           ...       ...       ...           ...           ...          ...   \n",
      "869     0.999957  0.999935  0.973756      0.588568      0.319145     1.000000   \n",
      "870     1.000000  0.999908  0.979441      0.810557      0.495257     0.000000   \n",
      "871     0.999820  0.997904  0.703434      0.663039      0.283005     0.000000   \n",
      "872     1.000000  0.905703  0.818464      0.212269      0.142770     0.000000   \n",
      "873     1.000000  0.999970  0.962265      0.886956      0.695855     0.826712   \n",
      "\n",
      "     mean_expected_accuracy  llm_difficulty  \n",
      "0                  0.487068        0.512932  \n",
      "1                  0.063832        0.936168  \n",
      "2                  0.345537        0.654463  \n",
      "3                  0.761120        0.238880  \n",
      "4                  0.452475        0.547525  \n",
      "..                      ...             ...  \n",
      "869                0.813560        0.186440  \n",
      "870                0.714194        0.285806  \n",
      "871                0.607867        0.392133  \n",
      "872                0.513201        0.486799  \n",
      "873                0.895293        0.104707  \n",
      "\n",
      "[874 rows x 8 columns]\n"
     ]
    }
   ],
   "source": [
    "# Assuming the models dictionary and dataset are defined\n",
    "models = {\n",
    "    \"GPT 4 Turbo\": \"gpt-4-1106-preview\",\n",
    "    \"GPT 3.5\": \"gpt-3.5-turbo-1106\",\n",
    "    \"PaLM 2\": \"text-bison@002\",\n",
    "    \"Mistral 8x7B\": \"Mixtral-8x7B-v0.1\",\n",
    "    \"Meditron 70B\": \"meditron-70b\",\n",
    "    \"Llama 2 70B\": \"Llama-2-70b-chat-hf\",\n",
    "}\n",
    "dataset = \"LEK\"\n",
    "\n",
    "# Load responses and compute expected_accuracy_series for each model\n",
    "accuracy_data = {}\n",
    "for model, hf_name in models.items():\n",
    "    filepath = f\"../responses/{hf_name}_{dataset}.json\"\n",
    "    df = load_responses(filepath)\n",
    "    accuracy_data[model] = expected_accuracy_series(df)\n",
    "\n",
    "# Convert the dictionary to a DataFrame where each column is a model and each row is a question\n",
    "accuracy_df = pd.DataFrame(accuracy_data)\n",
    "\n",
    "# Calculate mean expected accuracy across all models for each question\n",
    "accuracy_df[\"mean_expected_accuracy\"] = accuracy_df.mean(axis=1)\n",
    "\n",
    "# Calculate the llm-scored difficulty for each question\n",
    "accuracy_df[\"llm_difficulty\"] = 1 - accuracy_df[\"mean_expected_accuracy\"]\n",
    "\n",
    "# Creating a DataFrame with the difficulty values\n",
    "question_difficulty_df = accuracy_df[[\"llm_difficulty\"]]\n",
    "\n",
    "print(accuracy_df)"
   ]
  },
  {
   "cell_type": "code",
   "execution_count": 8,
   "id": "03879151",
   "metadata": {},
   "outputs": [
    {
     "name": "stdout",
     "output_type": "stream",
     "text": [
      "DataFrame with Index column is saved as 'llm_difficulty.csv'\n"
     ]
    },
    {
     "name": "stderr",
     "output_type": "stream",
     "text": [
      "/tmp/ipykernel_313285/66119465.py:5: SettingWithCopyWarning: \n",
      "A value is trying to be set on a copy of a slice from a DataFrame\n",
      "\n",
      "See the caveats in the documentation: https://pandas.pydata.org/pandas-docs/stable/user_guide/indexing.html#returning-a-view-versus-a-copy\n",
      "  question_difficulty_df.rename(columns={'index': 'Index'}, inplace=True)\n"
     ]
    }
   ],
   "source": [
    "# Resetting the index to add an index column\n",
    "question_difficulty_df.reset_index(inplace=True)\n",
    "\n",
    "# Rename the default 'index' column to 'Index'\n",
    "question_difficulty_df.rename(columns={\"index\": \"Index\"}, inplace=True)\n",
    "\n",
    "# Save the DataFrame to a CSV file\n",
    "question_difficulty_df.to_csv(\n",
    "    \"/code/human-learning-strategies/measure_difficulty/llm_difficulty.csv\", index=False\n",
    ")\n",
    "\n",
    "print(\"DataFrame with Index column is saved as 'llm_difficulty.csv'\")"
   ]
  }
 ],
 "metadata": {
  "kernelspec": {
   "display_name": "Python 3 (ipykernel)",
   "language": "python",
   "name": "python3"
  },
  "language_info": {
   "codemirror_mode": {
    "name": "ipython",
    "version": 3
   },
   "file_extension": ".py",
   "mimetype": "text/x-python",
   "name": "python",
   "nbconvert_exporter": "python",
   "pygments_lexer": "ipython3",
   "version": "3.11.5"
  }
 },
 "nbformat": 4,
 "nbformat_minor": 5
}
