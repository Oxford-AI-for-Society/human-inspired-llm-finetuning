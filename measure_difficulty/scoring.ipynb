{
 "cells": [
  {
   "cell_type": "code",
   "execution_count": 1,
   "id": "f4a418f4-d255-4ac1-ac9b-e2d3b332e304",
   "metadata": {
    "tags": []
   },
   "outputs": [],
   "source": [
    "import pandas as pd\n",
    "import numpy as np\n",
    "import re\n",
    "import json\n",
    "import math\n",
    "import scipy.stats as stats\n",
    "import statsmodels.api as sm\n",
    "import statsmodels.formula.api as smf\n",
    "import seaborn as sns\n",
    "import matplotlib.pyplot as plt"
   ]
  },
  {
   "cell_type": "code",
   "execution_count": 8,
   "id": "960dff33",
   "metadata": {},
   "outputs": [
    {
     "data": {
      "text/plain": [
       "0.4046964040086461"
      ]
     },
     "execution_count": 8,
     "metadata": {},
     "output_type": "execute_result"
    }
   ],
   "source": [
    "with open('/code/human-learning-strategies/responses/meditron-70b_medqa.json') as f:\n",
    "    data = json.load(f)\n",
    "df = pd.DataFrame(data['questions'])\n",
    "\n",
    "sum(df['correct_answer'] == df['response'])/len(df)\n",
    "    "
   ]
  },
  {
   "cell_type": "code",
   "execution_count": 3,
   "id": "0f8f49cc-1146-4931-87c7-6578d03ec5a8",
   "metadata": {
    "tags": []
   },
   "outputs": [],
   "source": [
    "def load_responses(filepath):\n",
    "    with open(filepath) as f:\n",
    "        data = json.load(f)\n",
    "\n",
    "    df = pd.DataFrame(data['questions'])\n",
    "\n",
    "    return df\n",
    "\n",
    "def category_filter(df, category):\n",
    "    subset = df[df['Category'] == category].copy()\n",
    "    return subset\n",
    "\n",
    "\n",
    "def correct_filter(df, incorrect=False):\n",
    "    subset = df[(df['correct_answer'] == df['response']) != incorrect].copy()\n",
    "    return subset"
   ]
  },
  {
   "cell_type": "code",
   "execution_count": 4,
   "id": "f036433a",
   "metadata": {},
   "outputs": [],
   "source": [
    "def correct(df):\n",
    "    df['correct'] = df['correct_answer'] == df['response']\n",
    "    return df['correct'].sum()\n",
    "\n",
    "def accuracy(df):\n",
    "    df['correct'] = df['correct_answer'] == df['response']\n",
    "    return df['correct'].sum() / len(df['correct'])\n",
    "\n",
    "def expected_correct(df):\n",
    "    df['expected_correct'] = df.apply(lambda x: math.exp(x['clls'][['A','B','C','D','E'].index(x['correct_answer'])]),axis=1)\n",
    "    return df['expected_correct'].sum()\n",
    "\n",
    "def expected_accuracy(df):\n",
    "    df['expected_correct'] = df.apply(lambda x: math.exp(x['clls'][['A','B','C','D','E'].index(x['correct_answer'])]),axis=1)\n",
    "    return df['expected_correct'].sum()/len(df)\n",
    "\n",
    "\n",
    "def expected_correct_series(df):\n",
    "    df['expected_correct'] = df.apply(lambda x: math.exp(x['clls'][['A','B','C','D','E'].index(x['correct_answer'])]),axis=1)\n",
    "    return df['expected_correct'].values\n",
    "\n",
    "def expected_accuracy_series(df):\n",
    "    df['expected_correct'] = df.apply(lambda x: math.exp(x['clls'][['A','B','C','D','E'].index(x['correct_answer'])]),axis=1)\n",
    "    return df['expected_correct'].values"
   ]
  },
  {
   "cell_type": "code",
   "execution_count": 5,
   "id": "f035e5b1",
   "metadata": {},
   "outputs": [],
   "source": [
    "def weight_dist(df):\n",
    "    sorted_clls = pd.DataFrame(df['clls'].apply(lambda x: np.exp(np.array(sorted(x,reverse=True)))).tolist())\n",
    "    return (sorted_clls.sum() / len(df)).values\n"
   ]
  },
  {
   "cell_type": "code",
   "execution_count": 6,
   "id": "dbd07c5b-65b4-48cf-96e1-d2373c45a3fb",
   "metadata": {
    "tags": []
   },
   "outputs": [],
   "source": [
    "dataset = 'medqa'\n",
    "\n",
    "models = {#'GPT 4 Turbo': 'gpt-4-1106-preview',\n",
    "          #'GPT 3.5': 'gpt-3.5-turbo-1106',\n",
    "          #'PaLM 2': 'text-bison@002',\n",
    "          'Mistral 8x7B': 'Mixtral-8x7B-v0.1',\n",
    "          'Meditron 70B': 'meditron-70b', \n",
    "          'Llama 2 70B':  'Llama-2-70b-chat-hf',\n",
    "          }\n",
    "\n",
    "models_df = pd.DataFrame.from_dict(models, columns = ['hf_name'], orient='index')\n",
    "\n",
    "models_df['filepath'] = '../responses/' + models_df['hf_name'] + '_'+dataset+'.json'\n",
    "\n",
    "models_df['n_correct'] = models_df.apply(lambda x: correct(load_responses(x['filepath'])),axis=1) \n",
    "models_df['raw_accuracy'] = models_df.apply(lambda x: accuracy(load_responses(x['filepath'])),axis=1) \n",
    "models_df['expected_correct'] = models_df.apply(lambda x: expected_correct(load_responses(x['filepath'])),axis=1)\n",
    "models_df['expected_accuracy'] = models_df.apply(lambda x: expected_accuracy(load_responses(x['filepath'])),axis=1)\n",
    "models_df['expected_correct_series'] = models_df.apply(lambda x: expected_correct_series(load_responses(x['filepath'])),axis=1)\n",
    "models_df['expected_accuracy_series'] = models_df.apply(lambda x: expected_accuracy_series(load_responses(x['filepath'])),axis=1)"
   ]
  },
  {
   "cell_type": "code",
   "execution_count": 7,
   "id": "c8054a06",
   "metadata": {},
   "outputs": [
    {
     "data": {
      "text/plain": [
       "<Axes: >"
      ]
     },
     "execution_count": 7,
     "metadata": {},
     "output_type": "execute_result"
    },
    {
     "data": {
      "image/png": "[encoded data removed]",
      "text/plain": [
       "<Figure size 640x480 with 1 Axes>"
      ]
     },
     "metadata": {},
     "output_type": "display_data"
    }
   ],
   "source": [
    "difficulty = 1 - models_df['expected_accuracy_series'].mean()\n",
    "pd.Series(difficulty).hist()\n"
   ]
  }
 ],
 "metadata": {
  "kernelspec": {
   "display_name": "Python 3 (ipykernel)",
   "language": "python",
   "name": "python3"
  },
  "language_info": {
   "codemirror_mode": {
    "name": "ipython",
    "version": 3
   },
   "file_extension": ".py",
   "mimetype": "text/x-python",
   "name": "python",
   "nbconvert_exporter": "python",
   "pygments_lexer": "ipython3",
   "version": "3.11.5"
  }
 },
 "nbformat": 4,
 "nbformat_minor": 5
}
