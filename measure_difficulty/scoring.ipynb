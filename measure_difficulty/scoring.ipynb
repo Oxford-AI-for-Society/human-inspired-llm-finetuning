{
 "cells": [
  {
   "cell_type": "code",
   "execution_count": 18,
   "id": "f4a418f4-d255-4ac1-ac9b-e2d3b332e304",
   "metadata": {
    "tags": []
   },
   "outputs": [],
   "source": [
    "import pandas as pd\n",
    "import numpy as np\n",
    "import json\n",
    "import math"
   ]
  },
  {
   "cell_type": "code",
   "execution_count": 8,
   "id": "960dff33",
   "metadata": {},
   "outputs": [
    {
     "data": {
      "text/plain": [
       "0.4046964040086461"
      ]
     },
     "execution_count": 8,
     "metadata": {},
     "output_type": "execute_result"
    }
   ],
   "source": [
    "# with open('/code/human-learning-strategies/responses/meditron-70b_medqa.json') as f:\n",
    "#     data = json.load(f)\n",
    "# df = pd.DataFrame(data['questions'])\n",
    "# sum(df['correct_answer'] == df['response'])/len(df)\n"
   ]
  },
  {
   "cell_type": "code",
   "execution_count": 19,
   "id": "0f8f49cc-1146-4931-87c7-6578d03ec5a8",
   "metadata": {
    "tags": []
   },
   "outputs": [],
   "source": [
    "def load_responses(filepath):\n",
    "    with open(filepath) as f:\n",
    "        data = json.load(f)\n",
    "\n",
    "    df = pd.DataFrame(data[\"questions\"])\n",
    "\n",
    "    return df\n",
    "\n",
    "\n",
    "def category_filter(df, category):\n",
    "    subset = df[df[\"Category\"] == category].copy()\n",
    "    return subset\n",
    "\n",
    "\n",
    "def correct_filter(df, incorrect=False):\n",
    "    subset = df[(df[\"correct_answer\"] == df[\"response\"]) != incorrect].copy()\n",
    "    return subset"
   ]
  },
  {
   "cell_type": "code",
   "execution_count": 20,
   "id": "f036433a",
   "metadata": {},
   "outputs": [],
   "source": [
    "def correct(df):\n",
    "    df[\"correct\"] = df[\"correct_answer\"] == df[\"response\"]\n",
    "    return df[\"correct\"].sum()\n",
    "\n",
    "\n",
    "def accuracy(df):\n",
    "    df[\"correct\"] = df[\"correct_answer\"] == df[\"response\"]\n",
    "    return df[\"correct\"].sum() / len(df[\"correct\"])\n",
    "\n",
    "\n",
    "def expected_correct(df):\n",
    "    df[\"expected_correct\"] = df.apply(\n",
    "        lambda x: math.exp(\n",
    "            x[\"clls\"][[\"A\", \"B\", \"C\", \"D\", \"E\"].index(x[\"correct_answer\"])]\n",
    "        ),\n",
    "        axis=1,\n",
    "    )\n",
    "    return df[\"expected_correct\"].sum()\n",
    "\n",
    "\n",
    "def expected_accuracy(df):\n",
    "    df[\"expected_correct\"] = df.apply(\n",
    "        lambda x: math.exp(\n",
    "            x[\"clls\"][[\"A\", \"B\", \"C\", \"D\", \"E\"].index(x[\"correct_answer\"])]\n",
    "        ),\n",
    "        axis=1,\n",
    "    )\n",
    "    return df[\"expected_correct\"].sum() / len(df)\n",
    "\n",
    "def expected_correct_series(df):\n",
    "    df[\"expected_correct\"] = df.apply(\n",
    "        lambda x: math.exp(\n",
    "            x[\"clls\"][[\"A\", \"B\", \"C\", \"D\", \"E\"].index(x[\"correct_answer\"])]\n",
    "        ),\n",
    "        axis=1,\n",
    "    )\n",
    "    return df[\"expected_correct\"].values\n",
    "\n",
    "\n",
    "# The expected probability for predicting the correct answer\n",
    "def expected_accuracy_series(df):\n",
    "    df[\"expected_correct\"] = df.apply(\n",
    "        lambda x: math.exp(\n",
    "            x[\"clls\"][[\"A\", \"B\", \"C\", \"D\", \"E\"].index(x[\"correct_answer\"])]\n",
    "        ),\n",
    "        axis=1,\n",
    "    )\n",
    "    return df[\"expected_correct\"].values"
   ]
  },
  {
   "cell_type": "code",
   "execution_count": 21,
   "id": "f035e5b1",
   "metadata": {},
   "outputs": [],
   "source": [
    "def weight_dist(df):\n",
    "    sorted_clls = pd.DataFrame(\n",
    "        df[\"clls\"].apply(lambda x: np.exp(np.array(sorted(x, reverse=True)))).tolist()\n",
    "    )\n",
    "    return (sorted_clls.sum() / len(df)).values"
   ]
  },
  {
   "cell_type": "code",
   "execution_count": 22,
   "id": "dbd07c5b-65b4-48cf-96e1-d2373c45a3fb",
   "metadata": {
    "tags": []
   },
   "outputs": [],
   "source": [
    "dataset = 'medqa'\n",
    "# dataset = 'LEK' \n",
    "\n",
    "models = {'Mistral 8x7B': 'Mixtral-8x7B-v0.1',\n",
    "          'Meditron 70B': 'meditron-70b', \n",
    "          'Llama 2 70B':  'Llama-2-70b-chat-hf',\n",
    "          'Jamba': 'Jamba-v0.1'}\n",
    "\n",
    "# models = {'GPT 4 Turbo': 'gpt-4-1106-preview',\n",
    "#           'GPT 3.5': 'gpt-3.5-turbo-1106',\n",
    "#           'PaLM 2': 'text-bison@002',\n",
    "#           'Mistral 8x7B': 'Mixtral-8x7B-v0.1',\n",
    "#           'Meditron 70B': 'meditron-70b', \n",
    "#           'Llama 2 70B':  'Llama-2-70b-chat-hf',\n",
    "#           }\n",
    "\n",
    "models_df = pd.DataFrame.from_dict(models, columns=[\"hf_name\"], orient=\"index\")\n",
    "\n",
    "models_df['filepath'] = '../responses/' + models_df['hf_name'] + '_' + dataset + '.json'\n",
    "\n",
    "models_df[\"n_correct\"] = models_df.apply(\n",
    "    lambda x: correct(load_responses(x[\"filepath\"])), axis=1\n",
    ")\n",
    "models_df[\"raw_accuracy\"] = models_df.apply(\n",
    "    lambda x: accuracy(load_responses(x[\"filepath\"])), axis=1\n",
    ")\n",
    "models_df[\"expected_correct\"] = models_df.apply(\n",
    "    lambda x: expected_correct(load_responses(x[\"filepath\"])), axis=1\n",
    ")\n",
    "models_df[\"expected_accuracy\"] = models_df.apply(\n",
    "    lambda x: expected_accuracy(load_responses(x[\"filepath\"])), axis=1\n",
    ")\n",
    "models_df[\"expected_correct_series\"] = models_df.apply(\n",
    "    lambda x: expected_correct_series(load_responses(x[\"filepath\"])), axis=1\n",
    ")\n",
    "models_df[\"expected_accuracy_series\"] = models_df.apply(\n",
    "    lambda x: expected_accuracy_series(load_responses(x[\"filepath\"])), axis=1\n",
    ")"
   ]
  },
  {
   "cell_type": "code",
   "execution_count": 23,
   "id": "81ea1a5a",
   "metadata": {},
   "outputs": [
    {
     "data": {
      "text/plain": [
       "<Axes: >"
      ]
     },
     "execution_count": 23,
     "metadata": {},
     "output_type": "execute_result"
    },
    {
     "data": {
      "image/png": "[encoded data removed]",
      "text/plain": [
       "<Figure size 640x480 with 1 Axes>"
      ]
     },
     "metadata": {},
     "output_type": "display_data"
    }
   ],
   "source": [
    "accuracy = models_df['expected_accuracy_series'].mean()\n",
    "pd.Series(accuracy).hist()"
   ]
  },
  {
   "cell_type": "code",
   "execution_count": 24,
   "id": "c8054a06",
   "metadata": {},
   "outputs": [
    {
     "data": {
      "text/plain": [
       "<Axes: >"
      ]
     },
     "execution_count": 24,
     "metadata": {},
     "output_type": "execute_result"
    },
    {
     "data": {
      "image/png": "[encoded data removed]",
      "text/plain": [
       "<Figure size 640x480 with 1 Axes>"
      ]
     },
     "metadata": {},
     "output_type": "display_data"
    }
   ],
   "source": [
    "difficulty = 1 - models_df['expected_accuracy_series'].mean()\n",
    "pd.Series(difficulty).hist()"
   ]
  },
  {
   "cell_type": "markdown",
   "id": "5221e694",
   "metadata": {},
   "source": [
    "### Compute the difficulty level per question as (1-expected accuracy)"
   ]
  },
  {
   "cell_type": "code",
   "execution_count": 26,
   "id": "eefa4d1f",
   "metadata": {},
   "outputs": [
    {
     "name": "stdout",
     "output_type": "stream",
     "text": [
      "       Mistral 8x7B  Meditron 70B  Llama 2 70B     Jamba  \\\n",
      "0          0.635270      0.661693     0.153916  0.161338   \n",
      "1          0.950005      0.620966     0.654071  0.598125   \n",
      "2          0.135251      0.429185     0.345069  0.193869   \n",
      "3          0.551355      0.303320     0.197828  0.299511   \n",
      "4          0.753825      0.100174     0.068259  0.113400   \n",
      "...             ...           ...          ...       ...   \n",
      "10173      0.211963      0.167620     0.275524  0.203572   \n",
      "10174      0.841890      0.483826     0.732847  0.348877   \n",
      "10175      0.059420      0.165300     0.174967  0.152442   \n",
      "10176      0.735433      0.308464     0.382679  0.068914   \n",
      "10177      0.579189      0.364368     0.169384  0.149646   \n",
      "\n",
      "       mean_expected_accuracy  llm_difficulty  \n",
      "0                    0.403054        0.596946  \n",
      "1                    0.705792        0.294208  \n",
      "2                    0.275844        0.724156  \n",
      "3                    0.338003        0.661997  \n",
      "4                    0.258914        0.741086  \n",
      "...                       ...             ...  \n",
      "10173                0.214670        0.785330  \n",
      "10174                0.601860        0.398140  \n",
      "10175                0.138032        0.861968  \n",
      "10176                0.373872        0.626128  \n",
      "10177                0.315647        0.684353  \n",
      "\n",
      "[10178 rows x 6 columns]\n"
     ]
    }
   ],
   "source": [
    "# Assuming the models dictionary and dataset are defined\n",
    "# models = {\n",
    "#     'GPT 4 Turbo': 'gpt-4-1106-preview',\n",
    "#     'GPT 3.5': 'gpt-3.5-turbo-1106',\n",
    "#     'PaLM 2': 'text-bison@002',\n",
    "#     'Mistral 8x7B': 'Mixtral-8x7B-v0.1',\n",
    "#     'Meditron 70B': 'meditron-70b', \n",
    "#     'Llama 2 70B':  'Llama-2-70b-chat-hf',\n",
    "# }\n",
    "# dataset = 'LEK'\n",
    "\n",
    "dataset = 'medqa'\n",
    "\n",
    "models = {'Mistral 8x7B': 'Mixtral-8x7B-v0.1',\n",
    "          'Meditron 70B': 'meditron-70b', \n",
    "          'Llama 2 70B':  'Llama-2-70b-chat-hf',\n",
    "          'Jamba': 'Jamba-v0.1'}\n",
    "\n",
    "# Load responses and compute expected_accuracy_series for each model\n",
    "accuracy_data = {}\n",
    "for model, hf_name in models.items():\n",
    "    filepath = f'../responses/{hf_name}_{dataset}.json'\n",
    "    df = load_responses(filepath)\n",
    "    accuracy_data[model] = expected_accuracy_series(df)\n",
    "\n",
    "# Convert the dictionary to a DataFrame where each column is a model and each row is a question\n",
    "accuracy_df = pd.DataFrame(accuracy_data)\n",
    "\n",
    "# Calculate mean expected accuracy across all models for each question\n",
    "accuracy_df['mean_expected_accuracy'] = accuracy_df.mean(axis=1)\n",
    "\n",
    "# Calculate the llm-scored difficulty for each question\n",
    "accuracy_df['llm_difficulty'] = 1 - accuracy_df['mean_expected_accuracy']\n",
    "\n",
    "# Creating a DataFrame with the difficulty values\n",
    "question_difficulty_df = accuracy_df[['llm_difficulty']]\n",
    "\n",
    "print(accuracy_df)\n"
   ]
  },
  {
   "cell_type": "code",
   "execution_count": 27,
   "id": "6723983d",
   "metadata": {},
   "outputs": [
    {
     "name": "stdout",
     "output_type": "stream",
     "text": [
      "Mistral 8x7B              0.383451\n",
      "Meditron 70B              0.298687\n",
      "Llama 2 70B               0.315508\n",
      "Jamba                     0.214962\n",
      "mean_expected_accuracy    0.303152\n",
      "llm_difficulty            0.696848\n",
      "dtype: float64\n"
     ]
    }
   ],
   "source": [
    "# Mean expected accuracy for each model\n",
    "column_averages = accuracy_df.mean()\n",
    "\n",
    "print(column_averages)"
   ]
  },
  {
   "cell_type": "markdown",
   "id": "d3a63ebf",
   "metadata": {},
   "source": [
    "### Save the difficulty level as a separate csv"
   ]
  },
  {
   "cell_type": "code",
   "execution_count": 28,
   "id": "03879151",
   "metadata": {},
   "outputs": [
    {
     "name": "stdout",
     "output_type": "stream",
     "text": [
      "DataFrame with the LLM Difficulty Level and the Index column is saved.\n"
     ]
    },
    {
     "name": "stderr",
     "output_type": "stream",
     "text": [
      "/tmp/ipykernel_1516958/2573848164.py:5: SettingWithCopyWarning: \n",
      "A value is trying to be set on a copy of a slice from a DataFrame\n",
      "\n",
      "See the caveats in the documentation: https://pandas.pydata.org/pandas-docs/stable/user_guide/indexing.html#returning-a-view-versus-a-copy\n",
      "  question_difficulty_df.rename(columns={'index': 'Index'}, inplace=True)\n"
     ]
    }
   ],
   "source": [
    "# Resetting the index to add an index column\n",
    "question_difficulty_df.reset_index(inplace=True)\n",
    "\n",
    "# Rename the default 'index' column to 'Index'\n",
    "question_difficulty_df.rename(columns={'index': 'Index'}, inplace=True)\n",
    "\n",
    "# Save the DataFrame to a CSV file\n",
    "question_difficulty_df.to_csv('/code/human-learning-strategies/measure_difficulty/llm_difficulty_medqa.csv', index=False)\n",
    "\n",
    "print(\"DataFrame with the LLM Difficulty Level and the Index column is saved.\")"
   ]
  }
 ],
 "metadata": {
  "kernelspec": {
   "display_name": "Python 3 (ipykernel)",
   "language": "python",
   "name": "python3"
  },
  "language_info": {
   "codemirror_mode": {
    "name": "ipython",
    "version": 3
   },
   "file_extension": ".py",
   "mimetype": "text/x-python",
   "name": "python",
   "nbconvert_exporter": "python",
   "pygments_lexer": "ipython3",
   "version": "3.12.2"
  }
 },
 "nbformat": 4,
 "nbformat_minor": 5
}
