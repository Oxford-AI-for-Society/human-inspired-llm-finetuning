{
 "cells": [
  {
   "cell_type": "code",
   "execution_count": 1,
   "id": "f4a418f4-d255-4ac1-ac9b-e2d3b332e304",
   "metadata": {
    "tags": []
   },
   "outputs": [],
   "source": [
    "import pandas as pd\n",
    "import numpy as np\n",
    "import re\n",
    "import json\n",
    "import math\n",
    "import scipy.stats as stats\n",
    "import statsmodels.api as sm\n",
    "import statsmodels.formula.api as smf\n",
    "import seaborn as sns\n",
    "import matplotlib.pyplot as plt"
   ]
  },
  {
   "cell_type": "code",
   "execution_count": 20,
   "id": "960dff33",
   "metadata": {},
   "outputs": [
    {
     "data": {
      "text/plain": [
       "0.5336976766983629"
      ]
     },
     "execution_count": 20,
     "metadata": {},
     "output_type": "execute_result"
    }
   ],
   "source": [
    "with open('/code/human-learning-strategies/responses/Mixtral-8x7B-v0.1_medmcqa.json') as f:\n",
    "    data = json.load(f)\n",
    "df = pd.DataFrame(data['questions'])\n",
    "\n",
    "sum(df['correct_answer'] == df['response'])/len(df)\n",
    "    "
   ]
  },
  {
   "cell_type": "code",
   "execution_count": 26,
   "id": "8757e54d",
   "metadata": {},
   "outputs": [
    {
     "data": {
      "text/html": [
       "<div>\n",
       "<style scoped>\n",
       "    .dataframe tbody tr th:only-of-type {\n",
       "        vertical-align: middle;\n",
       "    }\n",
       "\n",
       "    .dataframe tbody tr th {\n",
       "        vertical-align: top;\n",
       "    }\n",
       "\n",
       "    .dataframe thead th {\n",
       "        text-align: right;\n",
       "    }\n",
       "</style>\n",
       "<table border=\"1\" class=\"dataframe\">\n",
       "  <thead>\n",
       "    <tr style=\"text-align: right;\">\n",
       "      <th></th>\n",
       "      <th>question</th>\n",
       "      <th>correct_answer</th>\n",
       "      <th>question_index</th>\n",
       "      <th>shuffle</th>\n",
       "      <th>response</th>\n",
       "      <th>top3</th>\n",
       "      <th>clls</th>\n",
       "    </tr>\n",
       "  </thead>\n",
       "  <tbody>\n",
       "    <tr>\n",
       "      <th>81603</th>\n",
       "      <td>Answer the following multiple choice question ...</td>\n",
       "      <td>A</td>\n",
       "      <td>81603</td>\n",
       "      <td>[0, 1, 2, 3]</td>\n",
       "      <td>A</td>\n",
       "      <td>[A, B, D]</td>\n",
       "      <td>[-0.08976375311613083, -2.824138641357422, -4....</td>\n",
       "    </tr>\n",
       "    <tr>\n",
       "      <th>81604</th>\n",
       "      <td>Answer the following multiple choice question ...</td>\n",
       "      <td>C</td>\n",
       "      <td>81604</td>\n",
       "      <td>[0, 1, 2, 3]</td>\n",
       "      <td>B</td>\n",
       "      <td>[B, C, A]</td>\n",
       "      <td>[-2.019524574279785, -0.7226494550704956, -1.1...</td>\n",
       "    </tr>\n",
       "    <tr>\n",
       "      <th>81605</th>\n",
       "      <td>Answer the following multiple choice question ...</td>\n",
       "      <td>A</td>\n",
       "      <td>81605</td>\n",
       "      <td>[0, 1, 2, 3]</td>\n",
       "      <td>A</td>\n",
       "      <td>[A, B, C]</td>\n",
       "      <td>[-1.204960823059082, -1.267460823059082, -1.28...</td>\n",
       "    </tr>\n",
       "    <tr>\n",
       "      <th>81606</th>\n",
       "      <td>Answer the following multiple choice question ...</td>\n",
       "      <td>A</td>\n",
       "      <td>81606</td>\n",
       "      <td>[0, 1, 2, 3]</td>\n",
       "      <td>A</td>\n",
       "      <td>[A, B, C]</td>\n",
       "      <td>[-0.6319274306297302, -1.256927490234375, -2.1...</td>\n",
       "    </tr>\n",
       "    <tr>\n",
       "      <th>81607</th>\n",
       "      <td>Answer the following multiple choice question ...</td>\n",
       "      <td>A</td>\n",
       "      <td>81607</td>\n",
       "      <td>[0, 1, 2, 3]</td>\n",
       "      <td>A</td>\n",
       "      <td>[A, B, C]</td>\n",
       "      <td>[-0.36912932991981506, -2.0410044193267822, -2...</td>\n",
       "    </tr>\n",
       "  </tbody>\n",
       "</table>\n",
       "</div>"
      ],
      "text/plain": [
       "                                                question correct_answer  \\\n",
       "81603  Answer the following multiple choice question ...              A   \n",
       "81604  Answer the following multiple choice question ...              C   \n",
       "81605  Answer the following multiple choice question ...              A   \n",
       "81606  Answer the following multiple choice question ...              A   \n",
       "81607  Answer the following multiple choice question ...              A   \n",
       "\n",
       "       question_index       shuffle response       top3  \\\n",
       "81603           81603  [0, 1, 2, 3]        A  [A, B, D]   \n",
       "81604           81604  [0, 1, 2, 3]        B  [B, C, A]   \n",
       "81605           81605  [0, 1, 2, 3]        A  [A, B, C]   \n",
       "81606           81606  [0, 1, 2, 3]        A  [A, B, C]   \n",
       "81607           81607  [0, 1, 2, 3]        A  [A, B, C]   \n",
       "\n",
       "                                                    clls  \n",
       "81603  [-0.08976375311613083, -2.824138641357422, -4....  \n",
       "81604  [-2.019524574279785, -0.7226494550704956, -1.1...  \n",
       "81605  [-1.204960823059082, -1.267460823059082, -1.28...  \n",
       "81606  [-0.6319274306297302, -1.256927490234375, -2.1...  \n",
       "81607  [-0.36912932991981506, -2.0410044193267822, -2...  "
      ]
     },
     "execution_count": 26,
     "metadata": {},
     "output_type": "execute_result"
    }
   ],
   "source": [
    "\n",
    "df.tail()"
   ]
  },
  {
   "cell_type": "code",
   "execution_count": 8,
   "id": "0f8f49cc-1146-4931-87c7-6578d03ec5a8",
   "metadata": {
    "tags": []
   },
   "outputs": [],
   "source": [
    "def load_responses(filepath):\n",
    "    with open(filepath) as f:\n",
    "        data = json.load(f)\n",
    "\n",
    "    df = pd.DataFrame(data['questions'])\n",
    "\n",
    "    return df\n",
    "\n",
    "def category_filter(df, category):\n",
    "    subset = df[df['Category'] == category].copy()\n",
    "    return subset\n",
    "\n",
    "\n",
    "def correct_filter(df, incorrect=False):\n",
    "    subset = df[(df['correct_answer'] == df['response']) != incorrect].copy()\n",
    "    return subset"
   ]
  },
  {
   "cell_type": "code",
   "execution_count": 48,
   "id": "f036433a",
   "metadata": {},
   "outputs": [],
   "source": [
    "def correct(df):\n",
    "    df['correct'] = df['correct_answer'] == df['response']\n",
    "    return df['correct'].sum()\n",
    "\n",
    "def accuracy(df):\n",
    "    df['correct'] = df['correct_answer'] == df['response']\n",
    "    return df['correct'].sum() / len(df['correct'])\n",
    "\n",
    "def expected_correct(df):\n",
    "    df['expected_correct'] = df.apply(lambda x: math.exp(x['clls'][['A','B','C','D','E'].index(x['correct_answer'])]),axis=1)\n",
    "    return df['expected_correct'].sum()\n",
    "\n",
    "def expected_accuracy(df):\n",
    "    df['expected_correct'] = df.apply(lambda x: math.exp(x['clls'][['A','B','C','D','E'].index(x['correct_answer'])]),axis=1)\n",
    "    return df['expected_correct'].sum()/len(df)\n",
    "\n",
    "\n",
    "def expected_correct_series(df):\n",
    "    df['expected_correct'] = df.apply(lambda x: math.exp(x['clls'][['A','B','C','D','E'].index(x['correct_answer'])]),axis=1)\n",
    "    return df['expected_correct'].values\n",
    "\n",
    "def expected_accuracy_series(df):\n",
    "    df['expected_correct'] = df.apply(lambda x: math.exp(x['clls'][['A','B','C','D','E'].index(x['correct_answer'])]),axis=1)\n",
    "    return df['expected_correct'].values"
   ]
  },
  {
   "cell_type": "code",
   "execution_count": 4,
   "id": "f035e5b1",
   "metadata": {},
   "outputs": [],
   "source": [
    "def weight_dist(df):\n",
    "    sorted_clls = pd.DataFrame(df['clls'].apply(lambda x: np.exp(np.array(sorted(x,reverse=True)))).tolist())\n",
    "    return (sorted_clls.sum() / len(df)).values\n"
   ]
  },
  {
   "cell_type": "code",
   "execution_count": 49,
   "id": "dbd07c5b-65b4-48cf-96e1-d2373c45a3fb",
   "metadata": {
    "tags": []
   },
   "outputs": [],
   "source": [
    "dataset = 'LEK'\n",
    "\n",
    "models = {'GPT 4 Turbo': 'gpt-4-1106-preview',\n",
    "          'GPT 3.5': 'gpt-3.5-turbo-1106',\n",
    "          'PaLM 2': 'text-bison@002',\n",
    "          'Mistral 8x7B': 'Mixtral-8x7B-v0.1',\n",
    "          #'Med42': 'med42-70b',\n",
    "          'Meditron 70B': 'meditron-70b', \n",
    "          #'Meditron 7B': 'meditron-7b',\n",
    "          'Llama 2 70B':  'Llama-2-70b-chat-hf',\n",
    "          #'Llama 2 13B': 'Llama-2-13b-chat-hf',\n",
    "          #'Llama 2 7B':  'Llama-2-7b-chat-hf',\n",
    "          #'Phi 2': 'phi-2',\n",
    "          #'Phi 2': 'phi-2_randomized',\n",
    "          #'Vicuna 1.5 7B': 'vicuna-7b-v1.5',\n",
    "          #'Vicuna 1.5 13B': 'vicuna-13b-v1.5',\n",
    "          #'Gemma 7B': 'gemma-7b-it',\n",
    "          }\n",
    "\n",
    "models_df = pd.DataFrame.from_dict(models, columns = ['hf_name'], orient='index')\n",
    "\n",
    "models_df['filepath'] = './responses/' + models_df['hf_name'] + '_'+dataset+'.json'\n",
    "\n",
    "models_df['n_correct'] = models_df.apply(lambda x: correct(load_responses(x['filepath'])),axis=1) \n",
    "models_df['raw_accuracy'] = models_df.apply(lambda x: accuracy(load_responses(x['filepath'])),axis=1) \n",
    "models_df['expected_correct'] = models_df.apply(lambda x: expected_correct(load_responses(x['filepath'])),axis=1)\n",
    "models_df['expected_accuracy'] = models_df.apply(lambda x: expected_accuracy(load_responses(x['filepath'])),axis=1)\n",
    "models_df['expected_correct_series'] = models_df.apply(lambda x: expected_correct_series(load_responses(x['filepath'])),axis=1)\n",
    "models_df['expected_accuracy_series'] = models_df.apply(lambda x: expected_accuracy_series(load_responses(x['filepath'])),axis=1)"
   ]
  },
  {
   "cell_type": "code",
   "execution_count": 64,
   "id": "c8054a06",
   "metadata": {},
   "outputs": [
    {
     "data": {
      "text/plain": [
       "<Axes: >"
      ]
     },
     "execution_count": 64,
     "metadata": {},
     "output_type": "execute_result"
    },
    {
     "data": {
      "image/png": "[encoded data removed]",
      "text/plain": [
       "<Figure size 640x480 with 1 Axes>"
      ]
     },
     "metadata": {},
     "output_type": "display_data"
    }
   ],
   "source": [
    "difficulty = 1 - models_df['expected_accuracy_series'].mean()\n",
    "pd.Series(difficulty).hist()\n"
   ]
  }
 ],
 "metadata": {
  "kernelspec": {
   "display_name": "Python 3 (ipykernel)",
   "language": "python",
   "name": "python3"
  },
  "language_info": {
   "codemirror_mode": {
    "name": "ipython",
    "version": 3
   },
   "file_extension": ".py",
   "mimetype": "text/x-python",
   "name": "python",
   "nbconvert_exporter": "python",
   "pygments_lexer": "ipython3",
   "version": "3.11.5"
  }
 },
 "nbformat": 4,
 "nbformat_minor": 5
}
